{
 "cells": [
  {
   "cell_type": "code",
   "execution_count": 2,
   "metadata": {},
   "outputs": [
    {
     "name": "stdout",
     "output_type": "stream",
     "text": [
      "Downloading http://yann.lecun.com/exdb/mnist/train-images-idx3-ubyte.gz\n",
      "Downloading http://yann.lecun.com/exdb/mnist/train-images-idx3-ubyte.gz to path/to/save/data/MNIST/raw/train-images-idx3-ubyte.gz\n"
     ]
    },
    {
     "name": "stderr",
     "output_type": "stream",
     "text": [
      "100.0%\n"
     ]
    },
    {
     "name": "stdout",
     "output_type": "stream",
     "text": [
      "Extracting path/to/save/data/MNIST/raw/train-images-idx3-ubyte.gz to path/to/save/data/MNIST/raw\n",
      "\n",
      "Downloading http://yann.lecun.com/exdb/mnist/train-labels-idx1-ubyte.gz\n"
     ]
    },
    {
     "name": "stderr",
     "output_type": "stream",
     "text": [
      "100.0%"
     ]
    },
    {
     "name": "stdout",
     "output_type": "stream",
     "text": [
      "Downloading http://yann.lecun.com/exdb/mnist/train-labels-idx1-ubyte.gz to path/to/save/data/MNIST/raw/train-labels-idx1-ubyte.gz\n",
      "Extracting path/to/save/data/MNIST/raw/train-labels-idx1-ubyte.gz to path/to/save/data/MNIST/raw\n",
      "\n",
      "Downloading http://yann.lecun.com/exdb/mnist/t10k-images-idx3-ubyte.gz\n",
      "Downloading http://yann.lecun.com/exdb/mnist/t10k-images-idx3-ubyte.gz to path/to/save/data/MNIST/raw/t10k-images-idx3-ubyte.gz\n"
     ]
    },
    {
     "name": "stderr",
     "output_type": "stream",
     "text": [
      "\n",
      "100.0%\n",
      "100.0%\n"
     ]
    },
    {
     "name": "stdout",
     "output_type": "stream",
     "text": [
      "Extracting path/to/save/data/MNIST/raw/t10k-images-idx3-ubyte.gz to path/to/save/data/MNIST/raw\n",
      "\n",
      "Downloading http://yann.lecun.com/exdb/mnist/t10k-labels-idx1-ubyte.gz\n",
      "Downloading http://yann.lecun.com/exdb/mnist/t10k-labels-idx1-ubyte.gz to path/to/save/data/MNIST/raw/t10k-labels-idx1-ubyte.gz\n",
      "Extracting path/to/save/data/MNIST/raw/t10k-labels-idx1-ubyte.gz to path/to/save/data/MNIST/raw\n",
      "\n"
     ]
    }
   ],
   "source": [
    "import torch\n",
    "import torchvision\n",
    "from torchvision import datasets, transforms\n",
    "\n",
    "# Define a transformation to normalize the data\n",
    "transform = transforms.Compose([\n",
    "    transforms.ToTensor(),\n",
    "    transforms.Normalize((0.5,), (0.5,))\n",
    "])\n",
    "\n",
    "# Download and load the training data\n",
    "trainset = datasets.MNIST('path/to/save/data', download=True, train=True, transform=transform)\n",
    "trainloader = torch.utils.data.DataLoader(trainset, batch_size=64, shuffle=True)\n",
    "\n",
    "# Download and load the validation data\n",
    "valset = datasets.MNIST('path/to/save/data', download=True, train=False, transform=transform)\n",
    "valloader = torch.utils.data.DataLoader(valset, batch_size=64, shuffle=True)"
   ]
  },
  {
   "cell_type": "code",
   "execution_count": null,
   "metadata": {},
   "outputs": [],
   "source": [
    "import numpy as np\n",
    "import matplotlib.pyplot as plt"
   ]
  },
  {
   "cell_type": "code",
   "execution_count": 18,
   "metadata": {},
   "outputs": [
    {
     "name": "stdout",
     "output_type": "stream",
     "text": [
      "Epoch 1/50, Loss: 0.03046534444155647\n",
      "Epoch 2/50, Loss: 0.014715054693944036\n",
      "Epoch 3/50, Loss: 0.01262084598246669\n",
      "Epoch 4/50, Loss: 0.011187024584236108\n",
      "Epoch 5/50, Loss: 0.010095710839282606\n",
      "Epoch 6/50, Loss: 0.009116691705357569\n",
      "Epoch 7/50, Loss: 0.008266584624916112\n",
      "Epoch 8/50, Loss: 0.007586521206019334\n",
      "Epoch 9/50, Loss: 0.007031729477843097\n",
      "Epoch 10/50, Loss: 0.006503359748036725\n",
      "Epoch 11/50, Loss: 0.006085807696128007\n",
      "Epoch 12/50, Loss: 0.005687817004661526\n",
      "Epoch 13/50, Loss: 0.005391789692632648\n",
      "Epoch 14/50, Loss: 0.005124900597730706\n",
      "Epoch 15/50, Loss: 0.004845021482689681\n",
      "Epoch 16/50, Loss: 0.004622610957423055\n",
      "Epoch 17/50, Loss: 0.004381205834707977\n",
      "Epoch 18/50, Loss: 0.00419892041000132\n",
      "Epoch 19/50, Loss: 0.0040003967697839005\n",
      "Epoch 20/50, Loss: 0.003834819675463346\n",
      "Epoch 21/50, Loss: 0.0037042767750542255\n",
      "Epoch 22/50, Loss: 0.0035290449279952534\n",
      "Epoch 23/50, Loss: 0.0033927475716650918\n",
      "Epoch 24/50, Loss: 0.003257266564782183\n",
      "Epoch 25/50, Loss: 0.0031453637384501122\n",
      "Epoch 26/50, Loss: 0.003066191998488928\n",
      "Epoch 27/50, Loss: 0.002923903070415802\n",
      "Epoch 28/50, Loss: 0.002805836522504448\n",
      "Epoch 29/50, Loss: 0.00271656648167651\n",
      "Epoch 30/50, Loss: 0.0026273200593390895\n",
      "Epoch 31/50, Loss: 0.002552351186648379\n",
      "Epoch 32/50, Loss: 0.0024388178545549006\n",
      "Epoch 33/50, Loss: 0.0023755750610450423\n",
      "Epoch 34/50, Loss: 0.0022779135096689662\n",
      "Epoch 35/50, Loss: 0.002207299224543149\n",
      "Epoch 36/50, Loss: 0.0021695823725426952\n",
      "Epoch 37/50, Loss: 0.0021052381781739493\n",
      "Epoch 38/50, Loss: 0.001987851054540444\n",
      "Epoch 39/50, Loss: 0.0019450732265798528\n",
      "Epoch 40/50, Loss: 0.0018862759437295992\n",
      "Epoch 41/50, Loss: 0.0018248592242939836\n",
      "Epoch 42/50, Loss: 0.0017490509363774476\n",
      "Epoch 43/50, Loss: 0.0017320689004483216\n",
      "Epoch 44/50, Loss: 0.00165856679667201\n",
      "Epoch 45/50, Loss: 0.0015865947594520399\n",
      "Epoch 46/50, Loss: 0.001531801708873664\n",
      "Epoch 47/50, Loss: 0.0014893095385832547\n",
      "Epoch 48/50, Loss: 0.0014432544523274838\n",
      "Epoch 49/50, Loss: 0.0013763349446508923\n",
      "Epoch 50/50, Loss: 0.0013490066045980735\n"
     ]
    }
   ],
   "source": [
    "#Set layer sizes (MNIST picture = 28x28) (Output is 10 classes for digits 0-9)\n",
    "input_size = 784\n",
    "hidden_size1 = 128\n",
    "hidden_size2 = 64\n",
    "output_size = 10\n",
    "\n",
    "#Define ReLU and its derivative activation functions\n",
    "def relu(x):\n",
    "    return np.maximum(0, x)\n",
    "\n",
    "def relu_derivative(x):\n",
    "    return (x > 0).astype(float)\n",
    "\n",
    "#Using softmax function for output layer\n",
    "def softmax(x):\n",
    "    e_x = np.exp(x - np.max(x, axis=1, keepdims=True))\n",
    "    return e_x / e_x.sum(axis=1, keepdims=True)\n",
    "\n",
    "#Loss function\n",
    "def mse_loss(y_true, y_pred):\n",
    "    return ((y_true - y_pred) ** 2).mean()\n",
    "\n",
    "#Define NN (3-Layer)\n",
    "class NeuralNetwork:\n",
    "    def __init__(self, input_size, hidden_size1, hidden_size2, output_size):\n",
    "        self.w1 = np.random.randn(input_size, hidden_size1) / np.sqrt(input_size)\n",
    "        self.b1 = np.zeros(hidden_size1)\n",
    "        self.w2 = np.random.randn(hidden_size1, hidden_size2) / np.sqrt(hidden_size1)\n",
    "        self.b2 = np.zeros(hidden_size2)\n",
    "        self.w3 = np.random.randn(hidden_size2, output_size) / np.sqrt(hidden_size2)\n",
    "        self.b3 = np.zeros(output_size)\n",
    "\n",
    "    #Forward Pass\n",
    "    def forward(self, x):\n",
    "        self.z1 = x.dot(self.w1) + self.b1\n",
    "        self.a1 = relu(self.z1)\n",
    "        self.z2 = self.a1.dot(self.w2) + self.b2\n",
    "        self.a2 = relu(self.z2)\n",
    "        self.z3 = self.a2.dot(self.w3) + self.b3\n",
    "        self.output = softmax(self.z3)\n",
    "        return self.output\n",
    "\n",
    "    #Backward Pass\n",
    "    def backward(self, x, y):\n",
    "        m = y.shape[0]\n",
    "        dz3 = self.output - y\n",
    "        dw3 = self.a2.T.dot(dz3) / m\n",
    "        db3 = dz3.mean(axis=0)\n",
    "\n",
    "        dz2 = dz3.dot(self.w3.T) * relu_derivative(self.z2)\n",
    "        dw2 = self.a1.T.dot(dz2) / m\n",
    "        db2 = dz2.mean(axis=0)\n",
    "\n",
    "        dz1 = dz2.dot(self.w2.T) * relu_derivative(self.z1)\n",
    "        dw1 = x.T.dot(dz1) / m\n",
    "        db1 = dz1.mean(axis=0)\n",
    "\n",
    "        return [dw1, db1, dw2, db2, dw3, db3]\n",
    "\n",
    "def test_momentum(network, gradients, learning_rate, momentum, momentums):\n",
    "    #Get weights and biases from gradient\n",
    "    dw1, db1, dw2, db2, dw3, db3 = gradients\n",
    "\n",
    "    #Update weights with momentum\n",
    "    momentums[0] *= momentum\n",
    "    momentums[0] += learning_rate * dw1\n",
    "    network.w1 -= momentums[0]\n",
    "\n",
    "    momentums[2] *= momentum\n",
    "    momentums[2] += learning_rate * dw2\n",
    "    network.w2 -= momentums[2]\n",
    "\n",
    "    momentums[4] *= momentum\n",
    "    momentums[4] += learning_rate * dw3\n",
    "    network.w3 -= momentums[4]\n",
    "\n",
    "    #Update biases with momentum\n",
    "    momentums[1] *= momentum\n",
    "    momentums[1] += learning_rate * db1\n",
    "    network.b1 -= momentums[1]\n",
    "\n",
    "    momentums[3] *= momentum\n",
    "    momentums[3] += learning_rate * db2\n",
    "    network.b2 -= momentums[3]\n",
    "\n",
    "    momentums[5] *= momentum\n",
    "    momentums[5] += learning_rate * db3\n",
    "    network.b3 -= momentums[5]\n",
    "\n",
    "#Set learning rate, momentum rate, epochs, and initialize loss list\n",
    "learning_rate = 0.001\n",
    "momentum_rate = 0.9\n",
    "epochs = 50\n",
    "losses = []\n",
    "\n",
    "#Initialize NN and momentum\n",
    "nn = NeuralNetwork(input_size, hidden_size1, hidden_size2, output_size)\n",
    "momentums = [np.zeros_like(param) for param in [nn.w1, nn.b1, nn.w2, nn.b2, nn.w3, nn.b3]]\n",
    "\n",
    "#Train\n",
    "for epoch in range(epochs):\n",
    "    epoch_loss = 0\n",
    "    for images, labels in trainloader:\n",
    "        #Convert PyTorch tensors to NumPy\n",
    "        images_np = images.numpy().reshape(images.size(0), -1)\n",
    "        labels_np = labels.numpy()\n",
    "\n",
    "        #One-hot encode labels\n",
    "        labels_one_hot = np.zeros((labels_np.size, 10))\n",
    "        labels_one_hot[np.arange(labels_np.size), labels_np] = 1\n",
    "\n",
    "        #Forward pass\n",
    "        output = nn.forward(images_np)\n",
    "\n",
    "        #Backward pass\n",
    "        gradients = nn.backward(images_np, labels_one_hot)\n",
    "        test_momentum(nn, gradients, learning_rate, momentum_rate, momentums)\n",
    "\n",
    "        loss = mse_loss(labels_one_hot, output)\n",
    "        epoch_loss += loss\n",
    "\n",
    "    epoch_loss /= len(trainloader)\n",
    "    losses.append(epoch_loss)\n",
    "    print(f\"Epoch {epoch + 1}/{epochs}, Loss: {epoch_loss}\")\n",
    "\n"
   ]
  },
  {
   "cell_type": "code",
   "execution_count": 19,
   "metadata": {},
   "outputs": [
    {
     "name": "stdout",
     "output_type": "stream",
     "text": [
      "Number Of Images Tested = 10000\n",
      "\n",
      "Model Accuracy = 0.9755\n"
     ]
    }
   ],
   "source": [
    "def predict_label(nn, image):\n",
    "    output = nn.forward(image)\n",
    "    return np.argmax(output, axis=1)\n",
    "\n",
    "correct_count, all_count = 0, 0\n",
    "for images, labels in valloader:\n",
    "    # Flatten and normalize the images, and convert to NumPy\n",
    "    images_np = images.numpy().reshape(images.size(0), -1)\n",
    "\n",
    "    # Predict labels using the neural network instance\n",
    "    predicted_labels = predict_label(nn, images_np)\n",
    "\n",
    "    # Convert PyTorch tensor to NumPy array for true labels\n",
    "    true_labels = labels.numpy()\n",
    "\n",
    "    # Compare predicted labels with true labels\n",
    "    correct_count += np.sum(predicted_labels == true_labels)\n",
    "    all_count += labels.size(0)\n",
    "\n",
    "print(\"Number Of Images Tested =\", all_count)\n",
    "print(\"\\nModel Accuracy =\", (correct_count / all_count))\n",
    "\n"
   ]
  },
  {
   "cell_type": "code",
   "execution_count": 20,
   "metadata": {},
   "outputs": [
    {
     "data": {
      "image/png": "[encoded data removed]",
      "text/plain": [
       "<Figure size 640x480 with 1 Axes>"
      ]
     },
     "metadata": {},
     "output_type": "display_data"
    }
   ],
   "source": [
    "plt.plot(losses)\n",
    "plt.title('Training Loss Over Epochs')\n",
    "plt.xlabel('Epoch')\n",
    "plt.ylabel('Loss')\n",
    "plt.show()"
   ]
  }
 ],
 "metadata": {
  "kernelspec": {
   "display_name": "tensorflow",
   "language": "python",
   "name": "python3"
  },
  "language_info": {
   "codemirror_mode": {
    "name": "ipython",
    "version": 3
   },
   "file_extension": ".py",
   "mimetype": "text/x-python",
   "name": "python",
   "nbconvert_exporter": "python",
   "pygments_lexer": "ipython3",
   "version": "3.10.11"
  }
 },
 "nbformat": 4,
 "nbformat_minor": 2
}
